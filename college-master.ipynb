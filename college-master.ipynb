{
 "cells": [
  {
   "cell_type": "code",
   "execution_count": 1,
   "metadata": {},
   "outputs": [],
   "source": [
    "import pandas as pd\n",
    "import os\n",
    "\n",
    "#Merge college draft class data\n",
    "\n",
    "# List of CSV file paths\n",
    "file_paths = [\n",
    "    \"2017Class-Stats.csv\",\n",
    "    \"2018Class-Stats.csv\",\n",
    "    \"2019Class-Stats.csv\",\n",
    "    \"2020Class-Stats.csv\",\n",
    "    \"2021Class-Stats.csv\"\n",
    "]\n",
    "\n",
    "# Read and concatenate all CSVs\n",
    "dfs = [pd.read_csv(file) for file in file_paths]\n",
    "master_data = pd.concat(dfs, ignore_index=True)\n",
    "\n",
    "#Delete last column\n",
    "\n",
    "master_data = master_data.iloc[:, :-1]\n",
    "\n",
    "# Save the combined data to a new CSV file\n",
    "master_data.to_csv(\"college-master.csv\", index=False)"
   ]
  }
 ],
 "metadata": {
  "kernelspec": {
   "display_name": "Python 3",
   "language": "python",
   "name": "python3"
  },
  "language_info": {
   "codemirror_mode": {
    "name": "ipython",
    "version": 3
   },
   "file_extension": ".py",
   "mimetype": "text/x-python",
   "name": "python",
   "nbconvert_exporter": "python",
   "pygments_lexer": "ipython3",
   "version": "3.13.1"
  }
 },
 "nbformat": 4,
 "nbformat_minor": 2
}
