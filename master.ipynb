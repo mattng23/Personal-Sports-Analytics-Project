{
 "cells": [
  {
   "cell_type": "code",
   "execution_count": 2,
   "metadata": {},
   "outputs": [],
   "source": [
    "import pandas as pd\n",
    "\n",
    "# Load the two datasets\n",
    "college = pd.read_csv('college-master.csv')  # Players dataset 1\n",
    "nba = pd.read_csv('nba_three_szns.csv')  # Players dataset 2\n",
    "\n",
    "# Perform a left join on the \"Player\" column\n",
    "master = pd.merge(college, nba, on='Player', how='left')\n",
    "\n",
    "# Save the merged dataset to a new CSV file\n",
    "master.to_csv('master.csv', index=False)\n"
   ]
  },
  {
   "cell_type": "code",
   "execution_count": 6,
   "metadata": {},
   "outputs": [
    {
     "name": "stdout",
     "output_type": "stream",
     "text": [
      "37\n",
      "82\n",
      "118\n"
     ]
    }
   ],
   "source": [
    "print(college.shape[1])\n",
    "print(nba.shape[1])\n",
    "print(master.shape[1])"
   ]
  }
 ],
 "metadata": {
  "kernelspec": {
   "display_name": "Python 3",
   "language": "python",
   "name": "python3"
  },
  "language_info": {
   "codemirror_mode": {
    "name": "ipython",
    "version": 3
   },
   "file_extension": ".py",
   "mimetype": "text/x-python",
   "name": "python",
   "nbconvert_exporter": "python",
   "pygments_lexer": "ipython3",
   "version": "3.13.1"
  }
 },
 "nbformat": 4,
 "nbformat_minor": 2
}
