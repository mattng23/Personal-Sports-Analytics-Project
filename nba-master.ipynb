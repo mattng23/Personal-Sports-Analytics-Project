{
 "cells": [
  {
   "cell_type": "code",
   "execution_count": 55,
   "metadata": {},
   "outputs": [
    {
     "name": "stderr",
     "output_type": "stream",
     "text": [
      "C:\\Users\\aasia\\AppData\\Local\\Temp\\ipykernel_23824\\4277233094.py:37: DeprecationWarning: DataFrameGroupBy.apply operated on the grouping columns. This behavior is deprecated, and in a future version of pandas the grouping columns will be excluded from the operation. Either pass `include_groups=False` to exclude the groupings or explicitly select the grouping columns after groupby to silence this warning.\n",
      "  return df.groupby(\"Player\", group_keys=False).apply(get_tm_or_first)\n",
      "C:\\Users\\aasia\\AppData\\Local\\Temp\\ipykernel_23824\\4277233094.py:37: DeprecationWarning: DataFrameGroupBy.apply operated on the grouping columns. This behavior is deprecated, and in a future version of pandas the grouping columns will be excluded from the operation. Either pass `include_groups=False` to exclude the groupings or explicitly select the grouping columns after groupby to silence this warning.\n",
      "  return df.groupby(\"Player\", group_keys=False).apply(get_tm_or_first)\n",
      "C:\\Users\\aasia\\AppData\\Local\\Temp\\ipykernel_23824\\4277233094.py:37: DeprecationWarning: DataFrameGroupBy.apply operated on the grouping columns. This behavior is deprecated, and in a future version of pandas the grouping columns will be excluded from the operation. Either pass `include_groups=False` to exclude the groupings or explicitly select the grouping columns after groupby to silence this warning.\n",
      "  return df.groupby(\"Player\", group_keys=False).apply(get_tm_or_first)\n",
      "C:\\Users\\aasia\\AppData\\Local\\Temp\\ipykernel_23824\\4277233094.py:37: DeprecationWarning: DataFrameGroupBy.apply operated on the grouping columns. This behavior is deprecated, and in a future version of pandas the grouping columns will be excluded from the operation. Either pass `include_groups=False` to exclude the groupings or explicitly select the grouping columns after groupby to silence this warning.\n",
      "  return df.groupby(\"Player\", group_keys=False).apply(get_tm_or_first)\n",
      "C:\\Users\\aasia\\AppData\\Local\\Temp\\ipykernel_23824\\4277233094.py:37: DeprecationWarning: DataFrameGroupBy.apply operated on the grouping columns. This behavior is deprecated, and in a future version of pandas the grouping columns will be excluded from the operation. Either pass `include_groups=False` to exclude the groupings or explicitly select the grouping columns after groupby to silence this warning.\n",
      "  return df.groupby(\"Player\", group_keys=False).apply(get_tm_or_first)\n",
      "C:\\Users\\aasia\\AppData\\Local\\Temp\\ipykernel_23824\\4277233094.py:37: DeprecationWarning: DataFrameGroupBy.apply operated on the grouping columns. This behavior is deprecated, and in a future version of pandas the grouping columns will be excluded from the operation. Either pass `include_groups=False` to exclude the groupings or explicitly select the grouping columns after groupby to silence this warning.\n",
      "  return df.groupby(\"Player\", group_keys=False).apply(get_tm_or_first)\n",
      "C:\\Users\\aasia\\AppData\\Local\\Temp\\ipykernel_23824\\4277233094.py:37: DeprecationWarning: DataFrameGroupBy.apply operated on the grouping columns. This behavior is deprecated, and in a future version of pandas the grouping columns will be excluded from the operation. Either pass `include_groups=False` to exclude the groupings or explicitly select the grouping columns after groupby to silence this warning.\n",
      "  return df.groupby(\"Player\", group_keys=False).apply(get_tm_or_first)\n"
     ]
    }
   ],
   "source": [
    "import pandas as pd\n",
    "\n",
    "# Load the CSV files into DataFrames\n",
    "nba_17_18 = pd.read_csv(\"nba17-18.csv\")\n",
    "nba_18_19 = pd.read_csv(\"nba18-19.csv\")\n",
    "nba_19_20 = pd.read_csv(\"nba19-20.csv\")\n",
    "nba_20_21 = pd.read_csv(\"nba20-21.csv\")\n",
    "nba_21_22 = pd.read_csv(\"nba21-22.csv\")\n",
    "nba_22_23 = pd.read_csv(\"nba22-23.csv\")\n",
    "nba_23_24 = pd.read_csv(\"nba23-24.csv\")\n",
    "\n",
    "def clean_data(df):\n",
    "    # Drop the first, third, and last two columns\n",
    "    df = df.drop(df.columns[[0, 2, -1, -2]], axis=1)\n",
    "    return df\n",
    "\n",
    "# Clean each dataset\n",
    "nba_17_18 = clean_data(nba_17_18)\n",
    "nba_18_19 = clean_data(nba_18_19)\n",
    "nba_19_20 = clean_data(nba_19_20)\n",
    "nba_20_21 = clean_data(nba_20_21)\n",
    "nba_21_22 = clean_data(nba_21_22)\n",
    "nba_22_23 = clean_data(nba_22_23)\n",
    "nba_23_24 = clean_data(nba_23_24)\n",
    "\n",
    "# Function to filter rows where \"Team\" is '2TM' for each player\n",
    "def filter_tm(df):\n",
    "    # For each player, keep the row where \"Team\" is '2TM' or '3TM' if available, else keep the first row\n",
    "    def get_tm_or_first(group):\n",
    "        if \"3TM\" in group[\"Team\"].values:\n",
    "            return group[group[\"Team\"] == \"3TM\"]\n",
    "        elif \"2TM\" in group[\"Team\"].values:\n",
    "            return group[group[\"Team\"] == \"2TM\"]\n",
    "        else:\n",
    "            return group.head(1)\n",
    "    \n",
    "    return df.groupby(\"Player\", group_keys=False).apply(get_tm_or_first)\n",
    "\n",
    "# Apply the filtering function to each dataset\n",
    "nba_17_18 = filter_tm(nba_17_18)\n",
    "nba_18_19 = filter_tm(nba_18_19)\n",
    "nba_19_20 = filter_tm(nba_19_20)\n",
    "nba_20_21 = filter_tm(nba_20_21)\n",
    "nba_21_22 = filter_tm(nba_21_22)\n",
    "nba_22_23 = filter_tm(nba_22_23)\n",
    "nba_23_24 = filter_tm(nba_23_24)\n",
    "\n",
    "# Add season identifiers to the column names (excluding the first column)\n",
    "def add_season_prefix(df, season):\n",
    "    df.columns = [df.columns[0]] + [f\"{season}.{col}\" for col in df.columns[1:]]\n",
    "    return df\n",
    "\n",
    "nba_17_18 = add_season_prefix(nba_17_18, \"17-18\")\n",
    "nba_18_19 = add_season_prefix(nba_18_19, \"18-19\")\n",
    "nba_19_20 = add_season_prefix(nba_19_20, \"19-20\")\n",
    "nba_20_21 = add_season_prefix(nba_20_21, \"20-21\")\n",
    "nba_21_22 = add_season_prefix(nba_21_22, \"21-22\")\n",
    "nba_22_23 = add_season_prefix(nba_22_23, \"22-23\")\n",
    "nba_23_24 = add_season_prefix(nba_23_24, \"23-24\")\n"
   ]
  },
  {
   "cell_type": "code",
   "execution_count": 53,
   "metadata": {},
   "outputs": [],
   "source": [
    "nba_master_data = nba_17_18\n",
    "for df in [nba_18_19, nba_19_20, nba_20_21, nba_21_22, nba_22_23, nba_23_24]:\n",
    "    nba_master_data = pd.merge(nba_master_data, df, on=\"Player\", how=\"outer\")"
   ]
  }
 ],
 "metadata": {
  "kernelspec": {
   "display_name": "Python 3",
   "language": "python",
   "name": "python3"
  },
  "language_info": {
   "codemirror_mode": {
    "name": "ipython",
    "version": 3
   },
   "file_extension": ".py",
   "mimetype": "text/x-python",
   "name": "python",
   "nbconvert_exporter": "python",
   "pygments_lexer": "ipython3",
   "version": "3.13.1"
  }
 },
 "nbformat": 4,
 "nbformat_minor": 2
}
