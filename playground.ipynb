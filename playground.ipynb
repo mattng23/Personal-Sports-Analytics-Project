{
 "cells": [
  {
   "cell_type": "code",
   "execution_count": 1,
   "metadata": {},
   "outputs": [],
   "source": [
    "import pandas as pd\n",
    "import numpy as np\n",
    "\n",
    "three_szn = pd.read_csv(\"nba_three_szns.csv\")"
   ]
  },
  {
   "cell_type": "code",
   "execution_count": 3,
   "metadata": {},
   "outputs": [
    {
     "data": {
      "text/html": [
       "<div>\n",
       "<style scoped>\n",
       "    .dataframe tbody tr th:only-of-type {\n",
       "        vertical-align: middle;\n",
       "    }\n",
       "\n",
       "    .dataframe tbody tr th {\n",
       "        vertical-align: top;\n",
       "    }\n",
       "\n",
       "    .dataframe thead th {\n",
       "        text-align: right;\n",
       "    }\n",
       "</style>\n",
       "<table border=\"1\" class=\"dataframe\">\n",
       "  <thead>\n",
       "    <tr style=\"text-align: right;\">\n",
       "      <th></th>\n",
       "      <th>Player</th>\n",
       "      <th>yr1.Team</th>\n",
       "      <th>yr1.Pos</th>\n",
       "      <th>yr1.G</th>\n",
       "      <th>yr1.GS</th>\n",
       "      <th>yr1.MP</th>\n",
       "      <th>yr1.FG</th>\n",
       "      <th>yr1.FGA</th>\n",
       "      <th>yr1.FG%</th>\n",
       "      <th>yr1.3P</th>\n",
       "      <th>...</th>\n",
       "      <th>yr3.FT%</th>\n",
       "      <th>yr3.ORB</th>\n",
       "      <th>yr3.DRB</th>\n",
       "      <th>yr3.TRB</th>\n",
       "      <th>yr3.AST</th>\n",
       "      <th>yr3.STL</th>\n",
       "      <th>yr3.BLK</th>\n",
       "      <th>yr3.TOV</th>\n",
       "      <th>yr3.PF</th>\n",
       "      <th>yr3.PTS</th>\n",
       "    </tr>\n",
       "  </thead>\n",
       "  <tbody>\n",
       "    <tr>\n",
       "      <th>1058</th>\n",
       "      <td>Mark Williams</td>\n",
       "      <td>CHO</td>\n",
       "      <td>C</td>\n",
       "      <td>43.0</td>\n",
       "      <td>17.0</td>\n",
       "      <td>19.3</td>\n",
       "      <td>3.7</td>\n",
       "      <td>5.8</td>\n",
       "      <td>0.637</td>\n",
       "      <td>0.0</td>\n",
       "      <td>...</td>\n",
       "      <td>NaN</td>\n",
       "      <td>NaN</td>\n",
       "      <td>NaN</td>\n",
       "      <td>NaN</td>\n",
       "      <td>NaN</td>\n",
       "      <td>NaN</td>\n",
       "      <td>NaN</td>\n",
       "      <td>NaN</td>\n",
       "      <td>NaN</td>\n",
       "      <td>NaN</td>\n",
       "    </tr>\n",
       "  </tbody>\n",
       "</table>\n",
       "<p>1 rows × 82 columns</p>\n",
       "</div>"
      ],
      "text/plain": [
       "             Player yr1.Team yr1.Pos  yr1.G  yr1.GS  yr1.MP  yr1.FG  yr1.FGA  \\\n",
       "1058  Mark Williams      CHO       C   43.0    17.0    19.3     3.7      5.8   \n",
       "\n",
       "      yr1.FG%  yr1.3P  ...  yr3.FT%  yr3.ORB  yr3.DRB  yr3.TRB  yr3.AST  \\\n",
       "1058    0.637     0.0  ...      NaN      NaN      NaN      NaN      NaN   \n",
       "\n",
       "      yr3.STL  yr3.BLK  yr3.TOV  yr3.PF  yr3.PTS  \n",
       "1058      NaN      NaN      NaN     NaN      NaN  \n",
       "\n",
       "[1 rows x 82 columns]"
      ]
     },
     "execution_count": 3,
     "metadata": {},
     "output_type": "execute_result"
    }
   ],
   "source": [
    "three_szn[three_szn['Player']=='Mark Williams']"
   ]
  }
 ],
 "metadata": {
  "kernelspec": {
   "display_name": "Python 3",
   "language": "python",
   "name": "python3"
  },
  "language_info": {
   "codemirror_mode": {
    "name": "ipython",
    "version": 3
   },
   "file_extension": ".py",
   "mimetype": "text/x-python",
   "name": "python",
   "nbconvert_exporter": "python",
   "pygments_lexer": "ipython3",
   "version": "3.13.1"
  }
 },
 "nbformat": 4,
 "nbformat_minor": 2
}
